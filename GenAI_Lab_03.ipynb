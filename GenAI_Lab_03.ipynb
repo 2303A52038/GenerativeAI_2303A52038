{
  "nbformat": 4,
  "nbformat_minor": 0,
  "metadata": {
    "colab": {
      "provenance": [],
      "authorship_tag": "ABX9TyNVttyXCXgX1C5x+trUNUAV",
      "include_colab_link": true
    },
    "kernelspec": {
      "name": "python3",
      "display_name": "Python 3"
    },
    "language_info": {
      "name": "python"
    }
  },
  "cells": [
    {
      "cell_type": "markdown",
      "metadata": {
        "id": "view-in-github",
        "colab_type": "text"
      },
      "source": [
        "<a href=\"https://colab.research.google.com/github/2303A52038/GenerativeAI_2303A52038/blob/main/GenAI_Lab_03.ipynb\" target=\"_parent\"><img src=\"https://colab.research.google.com/assets/colab-badge.svg\" alt=\"Open In Colab\"/></a>"
      ]
    },
    {
      "cell_type": "markdown",
      "source": [
        "**QUESTION-1**\n",
        "\n",
        "(1 ponto) Write Python code without using any libraries to find the value of x at which the function f(x) shown in equation (1) has minimum value. Consider Gradient Descent Algorithm.\n",
        "\n",
        " f(x) = 5X^4 + 3X^2 + 10"
      ],
      "metadata": {
        "id": "Bo2UvBiqAPzs"
      }
    },
    {
      "cell_type": "code",
      "execution_count": 3,
      "metadata": {
        "colab": {
          "base_uri": "https://localhost:8080/"
        },
        "id": "o7bQViGU88D1",
        "outputId": "decce564-0bfd-45b7-8c6b-042427923f45"
      },
      "outputs": [
        {
          "output_type": "stream",
          "name": "stdout",
          "text": [
            "Converged after 166 iterations\n",
            "Minimum occurs at x = 1.5377093794492703e-05\n",
            "Minimum value = 10.000000000709365\n"
          ]
        }
      ],
      "source": [
        "def f(x):\n",
        "    return 5 * x**4 + 3 * x**2 + 10\n",
        "\n",
        "def df(x):\n",
        "    return 20 * x**3 + 6 * x\n",
        "\n",
        "def gradient_descent(learning_rate, max_iterations):\n",
        "    x = 1.0\n",
        "\n",
        "    for i in range(max_iterations):\n",
        "        gradient = df(x)\n",
        "        prev_x = x\n",
        "        x = x - learning_rate * gradient\n",
        "\n",
        "        if abs(x - prev_x) < 1e-6:\n",
        "            print(f\"Converged after {i+1} iterations\")\n",
        "            break\n",
        "\n",
        "    return x\n",
        "learning_rate = 0.01\n",
        "max_iterations = 1000\n",
        "min_x = gradient_descent(learning_rate, max_iterations)\n",
        "min_value = f(min_x)\n",
        "\n",
        "print(f\"Minimum occurs at x = {min_x}\")\n",
        "print(f\"Minimum value = {min_value}\")"
      ]
    },
    {
      "cell_type": "markdown",
      "source": [
        "**QUESTION-2**"
      ],
      "metadata": {
        "id": "NUhjQXGJAf6L"
      }
    },
    {
      "cell_type": "markdown",
      "source": [
        "Write Python code without using any libraries to find the value of x and y at which the function g(x,y) shown in equation (2) has minimum value. Consider Gradient Descent Algorithm."
      ],
      "metadata": {
        "id": "IMwTu11GAZLs"
      }
    },
    {
      "cell_type": "code",
      "source": [
        "import math\n",
        "\n",
        "def g(x, y):\n",
        "    return 3 * x**2 + 5 * math.exp(-y) + 10\n",
        "\n",
        "def dg_dx(x, y):\n",
        "    return 6 * x #Partial derivative with respect to x\n",
        "\n",
        "def dg_dy(x, y):\n",
        "    return -5 * math.exp(-y) #Partial derivative with respect to y\n",
        "\n",
        "def gradient_descent_2d(learning_rate, max_iterations):\n",
        "    # Initialize (x,y)\n",
        "    x = 1.0\n",
        "    y = 1.0\n",
        "\n",
        "    for i in range(max_iterations):\n",
        "        grad_x = dg_dx(x, y)\n",
        "        grad_y = dg_dy(x, y)\n",
        "        prev_x = x\n",
        "        prev_y = y\n",
        "        x = x - learning_rate * grad_x\n",
        "        y = y - learning_rate * grad_y\n",
        "\n",
        "        if math.sqrt((x - prev_x)**2 + (y - prev_y)**2) < 1e-6:\n",
        "            print(f\"Converged after {i+1} iterations\")\n",
        "            break\n",
        "\n",
        "    return x, y\n",
        "learning_rate=0.01\n",
        "max_iterations=1000\n",
        "min_x, min_y = gradient_descent_2d(learning_rate, max_iterations)\n",
        "min_value = g(min_x, min_y)\n",
        "\n",
        "print(f\"Minimum occurs at x = {min_x} and y = {min_y}\")\n",
        "\n",
        "print(f\"Minimum value = {min_value}\")"
      ],
      "metadata": {
        "colab": {
          "base_uri": "https://localhost:8080/"
        },
        "id": "qc-UTgDGAj28",
        "outputId": "765f75d8-b869-43dc-d259-9387a348b5ba"
      },
      "execution_count": 4,
      "outputs": [
        {
          "output_type": "stream",
          "name": "stdout",
          "text": [
            "Minimum occurs at x = 1.3423123924933694e-27 and y = 3.9663707936306642\n",
            "Minimum value = 10.094710265808493\n"
          ]
        }
      ]
    },
    {
      "cell_type": "markdown",
      "source": [
        "**QUESTION-3**"
      ],
      "metadata": {
        "id": "iUCextiyAorB"
      }
    },
    {
      "cell_type": "markdown",
      "source": [
        "Write Python code without using any libraries to find the value of x at which the sigmoid function z(x) shown in equation (3) has minimum value. Consider Gradient Descent Algorithm.\n",
        "\n",
        "  z(x) = 1/(1+e^-x)"
      ],
      "metadata": {
        "id": "BhxCYULhAtIW"
      }
    },
    {
      "cell_type": "code",
      "source": [
        "def gradient_descent_sigmoid(learning_rate, max_iterations):\n",
        "  # Initialize x\n",
        "    xi = 1.0\n",
        "    def sigmoid(x):\n",
        "        return 1 / (1 + math.exp(-x))\n",
        "    def sigmoid_derivative(x):\n",
        "        sig = sigmoid(x)\n",
        "        return sig * (1 - sig)\n",
        "    for i in range(max_iterations):\n",
        "        gradient = sigmoid_derivative(xi)\n",
        "        xi_new = xi - learning_rate * gradient\n",
        "        if abs(gradient) < 1e-6:\n",
        "            print(f\"Converged after {i+1} iterations\")\n",
        "            break\n",
        "\n",
        "        xi = xi_new\n",
        "\n",
        "    return xi\n",
        "\n",
        "learning_rate = 0.01\n",
        "max_iterations = 1000\n",
        "min_x = gradient_descent_sigmoid(learning_rate, max_iterations)\n",
        "\n",
        "print(f\"x = {min_x:.6f}\")\n",
        "print(f\"sigmoid(x) = {1/(1 + math.exp(-min_x)):.6f}\")"
      ],
      "metadata": {
        "colab": {
          "base_uri": "https://localhost:8080/"
        },
        "id": "3tBpb4WFA4P0",
        "outputId": "9640c85f-4e14-4596-ddaf-4022f2e855b8"
      },
      "execution_count": 5,
      "outputs": [
        {
          "output_type": "stream",
          "name": "stdout",
          "text": [
            "x = -1.240692\n",
            "sigmoid(x) = 0.224316\n"
          ]
        }
      ]
    },
    {
      "cell_type": "markdown",
      "source": [
        "**QUESTION-4**"
      ],
      "metadata": {
        "id": "WQrkIDpTA58L"
      }
    },
    {
      "cell_type": "markdown",
      "source": [
        "Write Python code without using any libraries to find the value of optimal values of model parameters M and C such that the model’s Square Error Value shown in equation 4 will be minimum. It means model gives output close to expected output as shown in Figure 1\n",
        "\n",
        "![image.png](data:image/png;base64,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)\n",
        "\n",
        "  SE =(ExpectedOutput − PredictedOutput)^2\n"
      ],
      "metadata": {
        "id": "HteYV7O_A9eN"
      }
    },
    {
      "cell_type": "code",
      "source": [
        "def gradient_descent_linear_model(inputs, expected_outputs, learning_rate, num_iterations):\n",
        "    M, C = 0, 0\n",
        "    n = len(inputs)\n",
        "    for i in range(num_iterations):\n",
        "        grad_M = sum(-2 * x * (y - (M * x + C)) for x, y in zip(inputs, expected_outputs)) / n\n",
        "        grad_C = sum(-2 * (y - (M * x + C)) for x, y in zip(inputs, expected_outputs)) / n\n",
        "        M = M - learning_rate * grad_M\n",
        "        C = C - learning_rate * grad_C\n",
        "        if abs(grad_M) < 1e-6 and abs(grad_C) < 1e-6:\n",
        "            print(f\"Converged after {i+1} iterations\")\n",
        "            break\n",
        "\n",
        "    return M, C\n",
        "\n",
        "inputs = [1, 2, 3, 4]\n",
        "expected_outputs = [2, 4, 6, 8]\n",
        "learning_rate = 0.01\n",
        "num_iterations = 1000\n",
        "\n",
        "M, C = gradient_descent_linear_model(inputs, expected_outputs, learning_rate, num_iterations)\n",
        "print(f\"M = {M}, C = {C}\")"
      ],
      "metadata": {
        "colab": {
          "base_uri": "https://localhost:8080/"
        },
        "id": "04YGi60uBhKS",
        "outputId": "87362eed-1a01-404a-cd37-5b46834ae710"
      },
      "execution_count": 6,
      "outputs": [
        {
          "output_type": "stream",
          "name": "stdout",
          "text": [
            "M = 1.9896587550255742, C = 0.030404521305361965\n"
          ]
        }
      ]
    }
  ]
}